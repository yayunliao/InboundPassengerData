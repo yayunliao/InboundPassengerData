{
 "cells": [
  {
   "cell_type": "code",
   "execution_count": 2,
   "id": "f766ebf7",
   "metadata": {},
   "outputs": [],
   "source": [
    "import pandas as pd"
   ]
  },
  {
   "cell_type": "code",
   "execution_count": 6,
   "id": "e3d05b2a",
   "metadata": {},
   "outputs": [],
   "source": [
    "# 讀取兩個CSV檔案\n",
    "df1 = pd.read_csv('新整理_旅館業住客類別及國籍人數統計表/all_旅館業住客類別及國籍人數統計表.csv')\n",
    "df2 = pd.read_csv('新整理_民宿住客類別及國籍人數統計表/all_民宿住客類別及國籍人數統計表.csv')\n",
    "\n",
    "# 使用concat()函式合併資料框\n",
    "merged_df = pd.concat([df1, df2], ignore_index=True)\n",
    "\n",
    "# 儲存合併後的CSV檔案\n",
    "merged_df.to_csv('merged_file_旅館民宿住宿國籍.csv', index=False)\n"
   ]
  },
  {
   "cell_type": "code",
   "execution_count": 7,
   "id": "d0ccbd29",
   "metadata": {},
   "outputs": [],
   "source": [
    "# 分各大洲\n",
    "# 讀取兩個CSV檔案\n",
    "df1 = pd.read_csv('新整理_旅館業住客類別及國籍人數統計表/all_new_旅館業住客類別及國籍人數統計表.csv')\n",
    "df2 = pd.read_csv('新整理_民宿住客類別及國籍人數統計表/all_new_民宿住客類別及國籍人數統計表.csv')\n",
    "\n",
    "# 使用concat()函式合併資料框\n",
    "merged_df = pd.concat([df1, df2], ignore_index=True)\n",
    "\n",
    "# 儲存合併後的CSV檔案\n",
    "merged_df.to_csv('merged_file_new_旅館民宿住宿國籍(分區域).csv', index=False)"
   ]
  },
  {
   "cell_type": "code",
   "execution_count": null,
   "id": "ab549b7a",
   "metadata": {},
   "outputs": [],
   "source": []
  }
 ],
 "metadata": {
  "kernelspec": {
   "display_name": "Python 3 (ipykernel)",
   "language": "python",
   "name": "python3"
  },
  "language_info": {
   "codemirror_mode": {
    "name": "ipython",
    "version": 3
   },
   "file_extension": ".py",
   "mimetype": "text/x-python",
   "name": "python",
   "nbconvert_exporter": "python",
   "pygments_lexer": "ipython3",
   "version": "3.10.11"
  }
 },
 "nbformat": 4,
 "nbformat_minor": 5
}
